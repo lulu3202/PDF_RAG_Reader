{
 "cells": [
  {
   "cell_type": "markdown",
   "metadata": {},
   "source": [
    "## 1. Import Modules"
   ]
  },
  {
   "cell_type": "code",
   "execution_count": 1,
   "metadata": {},
   "outputs": [],
   "source": [
    "import os  # Interacts with the operating system\n",
    "from langchain_community.document_loaders import PyPDFLoader  # Loads and parses PDF documents\n",
    "from langchain.text_splitter import RecursiveCharacterTextSplitter  # Splits text into manageable chunks\n",
    "from langchain_chroma import Chroma  # Manages vector stores for document embeddings\n",
    "from langchain_google_genai import GoogleGenerativeAIEmbeddings  # Generates embeddings using Google’s Generative AI\n",
    "from dotenv import load_dotenv  # Loads environment variables from .env file\n"
   ]
  },
  {
   "cell_type": "markdown",
   "metadata": {},
   "source": [
    "## 2. Load environment variables"
   ]
  },
  {
   "cell_type": "code",
   "execution_count": 2,
   "metadata": {},
   "outputs": [],
   "source": [
    "load_dotenv()  # Load environment variables from the .env file\n",
    "api_key = os.getenv(\"GOOGLE_API_KEY\")  # Retrieve the Google API key from environment variables\n",
    "if not api_key:\n",
    "    raise ValueError(\"No GOOGLE_API_KEY found in the environment variables.\")\n",
    "\n"
   ]
  },
  {
   "cell_type": "markdown",
   "metadata": {},
   "source": [
    "## 3. Load and Split PDF Document"
   ]
  },
  {
   "cell_type": "code",
   "execution_count": 3,
   "metadata": {},
   "outputs": [
    {
     "name": "stdout",
     "output_type": "stream",
     "text": [
      "Total number of documents:  669\n"
     ]
    }
   ],
   "source": [
    "loader = PyPDFLoader(\"Fuji_xs20_manual.pdf\")  # Initialize the PDF loader with the specified PDF file\n",
    "data = loader.load()  # Load the entire PDF as a single Document\n",
    "\n",
    "text_splitter = RecursiveCharacterTextSplitter(chunk_size=1000)  # Initialize the text splitter\n",
    "docs = text_splitter.split_documents(data)  # Split the loaded data into smaller documents\n",
    "\n",
    "print(\"Total number of documents: \", len(docs))  # Print the total number of documents\n",
    "\n"
   ]
  },
  {
   "cell_type": "markdown",
   "metadata": {},
   "source": [
    "## 4. Generate Embeddings "
   ]
  },
  {
   "cell_type": "code",
   "execution_count": 4,
   "metadata": {},
   "outputs": [
    {
     "name": "stdout",
     "output_type": "stream",
     "text": [
      "[0.05168594419956207, -0.030764883384108543, -0.03062233328819275, -0.02802734449505806, 0.01813092641532421]\n"
     ]
    }
   ],
   "source": [
    "api_key = os.getenv(\"GOOGLE_API_KEY\")  # Retrieve the Google API key from environment variables\n",
    "# Embedding models: https://python.langchain.com/v0.1/docs/integrations/text_embedding/\n",
    "embeddings = GoogleGenerativeAIEmbeddings(api_key=api_key, model=\"models/embedding-001\")  # Initialize the embedding model with the API key and specified model\n",
    "vector = embeddings.embed_query(\"hello, world!\")  # Generate an embedding vector for a sample query\n",
    "print(vector[:5])  # Print the first five elements of the embedding vector\n"
   ]
  },
  {
   "cell_type": "markdown",
   "metadata": {},
   "source": []
  },
  {
   "cell_type": "markdown",
   "metadata": {},
   "source": [
    "## 5. Create Vector Store and Retriever:"
   ]
  },
  {
   "cell_type": "code",
   "execution_count": 5,
   "metadata": {},
   "outputs": [],
   "source": [
    "vectorstore = Chroma.from_documents(documents=docs, embedding=embeddings)  # Create a Chroma vector store from the split documents using the embeddings\n",
    "retriever = vectorstore.as_retriever(search_type=\"similarity\", search_kwargs={\"k\": 10})  # Set up a retriever to find similar documents based on queries\n"
   ]
  },
  {
   "cell_type": "markdown",
   "metadata": {},
   "source": [
    "## 6. Retrieve Documents"
   ]
  },
  {
   "cell_type": "code",
   "execution_count": 6,
   "metadata": {},
   "outputs": [
    {
     "name": "stdout",
     "output_type": "stream",
     "text": [
      "Number of retrieved documents:  10\n",
      "IMAGE QUALITY .......................................................................................................... 129RAW RECORDING ....................................................................................................... 130SELECT JPEG/HEIF ...................................................................................................... 131FILM SIMULATION ...................................................................................................... 132MONOCHROMATIC COLOR .................................................................................. 134GRAIN EFFECT .............................................................................................................. 134COLOR CHROME EFFECT ....................................................................................... 135COLOR CHROME FX BLUE ..................................................................................... 135WHITE BALANCE\n"
     ]
    }
   ],
   "source": [
    "retrieved_docs = retriever.invoke(\"What is new in yolov9?\")  # Use the retriever to find documents relevant to the query\n",
    "print(\"Number of retrieved documents: \", len(retrieved_docs))  # Print the number of documents retrieved\n",
    "print(retrieved_docs[5].page_content)  # Print the content of the 6th retrieved document\n"
   ]
  },
  {
   "cell_type": "markdown",
   "metadata": {},
   "source": [
    "## 7. Initialize Language Model and Set Up Chains"
   ]
  },
  {
   "cell_type": "markdown",
   "metadata": {},
   "source": []
  },
  {
   "cell_type": "code",
   "execution_count": 7,
   "metadata": {},
   "outputs": [
    {
     "name": "stdout",
     "output_type": "stream",
     "text": [
      "Film simulation modes in cameras mimic the look of different film stocks from manufacturers like FujiFilm.  To set it in your X-S20, go to the shooting menu by pressing \"MENU/OK\", then navigate to the \"IMAGE QUALITY SETTING\" tab.  You can then select the \"FILM SIMULATION\" option to choose your desired film stock. \n",
      "\n"
     ]
    }
   ],
   "source": [
    "from langchain_google_genai import ChatGoogleGenerativeAI  # Import the ChatGoogleGenerativeAI class for conversational AI\n",
    "llm = ChatGoogleGenerativeAI(model=\"gemini-1.5-pro\", temperature=0.3, max_tokens=500)  # Initialize the language model with specified parameters\n",
    "\n",
    "from langchain.chains import create_retrieval_chain\n",
    "from langchain.chains.combine_documents import create_stuff_documents_chain\n",
    "from langchain_core.prompts import ChatPromptTemplate\n",
    "\n",
    "system_prompt = (\n",
    "    \"You are an assistant for question-answering tasks. \"\n",
    "    \"Use the following pieces of retrieved context to answer \"\n",
    "    \"the question. If you don't know the answer, say that you \"\n",
    "    \"don't know. Use three sentences maximum and keep the \"\n",
    "    \"answer concise.\"\n",
    "    \"\\n\\n\"\n",
    "    \"{context}\"\n",
    ")  # Define the system prompt\n",
    "\n",
    "prompt = ChatPromptTemplate.from_messages(\n",
    "    [\n",
    "        (\"system\", system_prompt),  # System-level instructions\n",
    "        (\"human\", \"{input}\"),  # User input placeholder\n",
    "    ]\n",
    ")  # Create a prompt template\n",
    "\n",
    "question_answer_chain = create_stuff_documents_chain(llm, prompt)  # Create a question-answering chain\n",
    "rag_chain = create_retrieval_chain(retriever, question_answer_chain)  # Create a Retrieval-Augmented Generation (RAG) chain\n",
    "\n",
    "response = rag_chain.invoke({\"input\": \"what are film simulation modes and how to set it in Xs20 camera?\"})  # Invoke the RAG chain with a query\n",
    "print(response[\"answer\"])  # Print the assistant's answer\n",
    "\n"
   ]
  },
  {
   "cell_type": "markdown",
   "metadata": {},
   "source": [
    "## 8. Let's run this program in our conda environment\n",
    "\n",
    "Export .ipynb as .py file and from your terminal run \"python app.py\" "
   ]
  },
  {
   "cell_type": "code",
   "execution_count": null,
   "metadata": {},
   "outputs": [],
   "source": []
  },
  {
   "cell_type": "markdown",
   "metadata": {},
   "source": []
  }
 ],
 "metadata": {
  "kernelspec": {
   "display_name": "env_langchain1",
   "language": "python",
   "name": "python3"
  },
  "language_info": {
   "codemirror_mode": {
    "name": "ipython",
    "version": 3
   },
   "file_extension": ".py",
   "mimetype": "text/x-python",
   "name": "python",
   "nbconvert_exporter": "python",
   "pygments_lexer": "ipython3",
   "version": "3.10.15"
  }
 },
 "nbformat": 4,
 "nbformat_minor": 2
}
